{
 "cells": [
  {
   "cell_type": "code",
   "execution_count": 5,
   "metadata": {},
   "outputs": [
    {
     "data": {
      "text/plain": [
       "'фцвфцв'"
      ]
     },
     "execution_count": 5,
     "metadata": {},
     "output_type": "execute_result"
    }
   ],
   "source": [
    "import re\n",
    "s = input(\"Введите строку: /n\")\n",
    "x = input(\"Введите вирус:/n\")\n",
    "re.sub(x, \"\", s, flags=re.I)"
   ]
  },
  {
   "cell_type": "code",
   "execution_count": null,
   "metadata": {},
   "outputs": [],
   "source": [
    "inputList1 = [2, 2] \n",
    "inputList2 = [4, 4, 5, 5] \n",
    "inputList3 = [4, 1, 4] "
   ]
  },
  {
   "cell_type": "code",
   "execution_count": 37,
   "metadata": {},
   "outputs": [],
   "source": [
    "def one_step (inputList: list) -> list:\n",
    "    while all([x == 0 for x in inputList]):\n",
    "        for i, n in enumerate(inputList):\n",
    "            if n != 0:\n",
    "                inputList[i] -= 1\n",
    "            else:\n",
    "                return inputList\n",
    "    return inputList"
   ]
  },
  {
   "cell_type": "code",
   "execution_count": 43,
   "metadata": {},
   "outputs": [
    {
     "ename": "TypeError",
     "evalue": "'NoneType' object is not iterable",
     "output_type": "error",
     "traceback": [
      "\u001b[1;31m---------------------------------------------------------------------------\u001b[0m",
      "\u001b[1;31mTypeError\u001b[0m                                 Traceback (most recent call last)",
      "Cell \u001b[1;32mIn[43], line 3\u001b[0m\n\u001b[0;32m      1\u001b[0m inputList \u001b[39m=\u001b[39m inputList3\n\u001b[0;32m      2\u001b[0m inputList \u001b[39m=\u001b[39m one_step(inputList)\n\u001b[1;32m----> 3\u001b[0m inputList \u001b[39m=\u001b[39m one_step(inputList)\n\u001b[0;32m      4\u001b[0m inputList \u001b[39m=\u001b[39m one_step(inputList)\n\u001b[0;32m      5\u001b[0m \u001b[39mprint\u001b[39m(inputList)\n",
      "Cell \u001b[1;32mIn[37], line 2\u001b[0m, in \u001b[0;36mone_step\u001b[1;34m(inputList)\u001b[0m\n\u001b[0;32m      1\u001b[0m \u001b[39mdef\u001b[39;00m \u001b[39mone_step\u001b[39m (inputList: \u001b[39mlist\u001b[39m) \u001b[39m-\u001b[39m\u001b[39m>\u001b[39m \u001b[39mbool\u001b[39m:\n\u001b[1;32m----> 2\u001b[0m     \u001b[39mwhile\u001b[39;00m \u001b[39mall\u001b[39m([x \u001b[39m==\u001b[39m \u001b[39m0\u001b[39m \u001b[39mfor\u001b[39;00m x \u001b[39min\u001b[39;00m inputList]):\n\u001b[0;32m      3\u001b[0m         \u001b[39mfor\u001b[39;00m i, n \u001b[39min\u001b[39;00m \u001b[39menumerate\u001b[39m(inputList):\n\u001b[0;32m      4\u001b[0m             \u001b[39mif\u001b[39;00m n \u001b[39m!=\u001b[39m \u001b[39m0\u001b[39m:\n",
      "\u001b[1;31mTypeError\u001b[0m: 'NoneType' object is not iterable"
     ]
    }
   ],
   "source": [
    "inputList = inputList3\n",
    "inputList = one_step(inputList)\n",
    "inputList = one_step(inputList)\n",
    "inputList = one_step(inputList)\n",
    "print(inputList)"
   ]
  },
  {
   "cell_type": "code",
   "execution_count": null,
   "metadata": {},
   "outputs": [],
   "source": []
  }
 ],
 "metadata": {
  "kernelspec": {
   "display_name": "Python 3",
   "language": "python",
   "name": "python3"
  },
  "language_info": {
   "codemirror_mode": {
    "name": "ipython",
    "version": 3
   },
   "file_extension": ".py",
   "mimetype": "text/x-python",
   "name": "python",
   "nbconvert_exporter": "python",
   "pygments_lexer": "ipython3",
   "version": "3.10.2"
  },
  "orig_nbformat": 4,
  "vscode": {
   "interpreter": {
    "hash": "26de051ba29f2982a8de78e945f0abaf191376122a1563185a90213a26c5da77"
   }
  }
 },
 "nbformat": 4,
 "nbformat_minor": 2
}
